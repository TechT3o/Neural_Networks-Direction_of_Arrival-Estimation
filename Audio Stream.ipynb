{
 "cells": [
  {
   "cell_type": "code",
   "execution_count": null,
   "id": "c8a06915",
   "metadata": {},
   "outputs": [],
   "source": [
    "import pyaudio, sys, socket"
   ]
  },
  {
   "cell_type": "code",
   "execution_count": null,
   "id": "438170d9",
   "metadata": {},
   "outputs": [],
   "source": [
    "#This block shows the devices available to pyaudio\n",
    "p = pyaudio.PyAudio()\n",
    "for i in range(p.get_device_count()):\n",
    "    print(p.get_device_info_by_index(i))"
   ]
  },
  {
   "cell_type": "code",
   "execution_count": null,
   "id": "5c39815f",
   "metadata": {},
   "outputs": [],
   "source": [
    "def recvall(sock,buff):\n",
    "    #This function creates a buffer to ensure packets of the correct length are fed in the algorithm\n",
    "    \n",
    "    #sock is the socket object\n",
    "    #buff is the size of the buffer\n",
    "    packet = sock.recv(buff)\n",
    "    if len(packet) < buff:\n",
    "        ext = sock.recv(buff-len(packet))\n",
    "        packet += ext\n",
    "    return packet"
   ]
  },
  {
   "cell_type": "code",
   "execution_count": null,
   "id": "fddd41d0",
   "metadata": {},
   "outputs": [],
   "source": [
    "#This is the Server code that allows for the transmission of multichannel audio data from the respeaker \n",
    "#It was created by gazzwi86 at https://www.raspberrypi.org/forums/viewtopic.php?t=23504\n",
    "\n",
    "\n",
    "port = 5000\n",
    "chunk = 512\n",
    "FORMAT = pyaudio.paInt16\n",
    "CHANNELS = 6\n",
    "RATE = 16000\n",
    "\n",
    "#creates pyaudio object to use audio input/output devices\n",
    "p = pyaudio.PyAudio()\n",
    "stream = p.open(format = FORMAT, channels = CHANNELS, rate = RATE, input = True, output = True, frames_per_buffer = chunk)\n",
    "\n",
    "#creates socket object \n",
    "server_socket = socket.socket(socket.AF_INET, socket.SOCK_STREAM)\n",
    "server_socket.bind(('', port)) # listen on port 5000\n",
    "server_socket.listen(1) # queue max 5 connections\n",
    "client_socket, address = server_socket.accept()\n",
    "\n",
    "print \"Your IP address is: \", socket.gethostbyname(socket.gethostname())\n",
    "print \"Server Waiting for client on port \", port\n",
    "\n",
    "#transmits the\n",
    "while True:   \n",
    "    try:\n",
    "        client_socket.sendall(stream.read(chunk))\n",
    "    except IOError,e:\n",
    "        if e[1] == pyaudio.paInputOverflowed: \n",
    "            print e \n",
    "            x = '\\x00'*16*256*2 #value*format*chunk*nb_channels \n",
    "\n",
    "stream.stop_stream()\n",
    "stream.close()\n",
    "socket.close()\n",
    "p.terminate()\n"
   ]
  },
  {
   "cell_type": "code",
   "execution_count": null,
   "id": "36c37192",
   "metadata": {},
   "outputs": [],
   "source": [
    "import pyaudio, sys, socket\n",
    "import numpy as np\n",
    "\n",
    "#This is the client code that receives the audio data transmitted by the 6 channels of the Respeaker\n",
    "#and writes it in the default output device\n",
    "#It is a modification of the code made by gazzwi86 at https://www.raspberrypi.org/forums/viewtopic.php?t=23504\n",
    "\n",
    "port = 5000\n",
    "ip = \"put the ip of the server here\"\n",
    "\n",
    "chunk = 256\n",
    "FORMAT = pyaudio.paInt16\n",
    "CHANNELS = 1\n",
    "channels = 6\n",
    "RATE = 16000\n",
    "\n",
    "#creates pyaudio object\n",
    "p = pyaudio.PyAudio()\n",
    "stream = p.open(format = FORMAT, channels = CHANNELS, rate = RATE, input = False,output = True, frames_per_buffer = chunk)\n",
    "\n",
    "#Create a socket connection for connecting to the server:\n",
    "client_socket = socket.socket(socket.AF_INET, socket.SOCK_STREAM)\n",
    "client_socket.connect((ip, port))\n",
    "\n",
    "while True:\n",
    "\n",
    "    #Receive data from the server and store them in a channelxchunk*2 list of numpy arrays \n",
    "    b = bytearray()\n",
    "    data = recvall(client_socket,2*channels*chunk)\n",
    "    numpydata = np.frombuffer(data, dtype=np.int16)\n",
    "    numpydata = np.reshape(numpydata, (chunk, 6))\n",
    "    numpydata = [numpydata[:,i] for i in range(channels)]\n",
    "    data = [numpydata[i].astype(np.int16).tobytes() for i in range(channels)]\n",
    "    stream.write(data[0])\n",
    "\n",
    "socket.close()"
   ]
  }
 ],
 "metadata": {
  "kernelspec": {
   "display_name": "Python 3",
   "language": "python",
   "name": "python3"
  },
  "language_info": {
   "codemirror_mode": {
    "name": "ipython",
    "version": 3
   },
   "file_extension": ".py",
   "mimetype": "text/x-python",
   "name": "python",
   "nbconvert_exporter": "python",
   "pygments_lexer": "ipython3",
   "version": "3.8.8"
  }
 },
 "nbformat": 4,
 "nbformat_minor": 5
}
